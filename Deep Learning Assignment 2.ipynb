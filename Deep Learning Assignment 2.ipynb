{
  "nbformat": 4,
  "nbformat_minor": 0,
  "metadata": {
    "colab": {
      "provenance": [],
      "collapsed_sections": [
        "8UcgZTDNgz9E",
        "yAZrdpfeONGJ",
        "ymVprLKSe781",
        "_HjuGoShOT-F",
        "shgRBn9a0P5b"
      ],
      "toc_visible": true
    },
    "kernelspec": {
      "name": "python3",
      "display_name": "Python 3"
    },
    "language_info": {
      "name": "python"
    },
    "accelerator": "GPU"
  },
  "cells": [
    {
      "cell_type": "markdown",
      "metadata": {
        "id": "8UcgZTDNgz9E"
      },
      "source": [
        "#Download Files"
      ]
    },
    {
      "cell_type": "code",
      "metadata": {
        "colab": {
          "base_uri": "https://localhost:8080/"
        },
        "id": "KJZsbdKP6f4I",
        "outputId": "72289954-3a1f-46f4-fee0-c2f744eb1ac7"
      },
      "source": [
        "# Download data\n",
        "\n",
        "!gdown --id 1p1wjaqpTh_5RHfJu4vUh8JJCdKwYMHCp"
      ],
      "execution_count": null,
      "outputs": [
        {
          "output_type": "stream",
          "text": [
            "Downloading...\n",
            "From: https://drive.google.com/uc?id=1p1wjaqpTh_5RHfJu4vUh8JJCdKwYMHCp\n",
            "To: /content/lfwa.zip\n",
            "104MB [00:00, 136MB/s] \n"
          ],
          "name": "stdout"
        }
      ]
    },
    {
      "cell_type": "code",
      "metadata": {
        "id": "9UZM14C-8MtC"
      },
      "source": [
        "# Unzip data\n",
        "\n",
        "!unzip lfwa.zip -d data"
      ],
      "execution_count": null,
      "outputs": []
    },
    {
      "cell_type": "code",
      "metadata": {
        "colab": {
          "base_uri": "https://localhost:8080/"
        },
        "id": "2WsarS-w-YqZ",
        "outputId": "3caf764c-40c3-4cbc-97ef-7440cc395e10"
      },
      "source": [
        "# Download train and test\n",
        "\n",
        "!gdown http://vis-www.cs.umass.edu/lfw/pairsDevTest.txt\n",
        "!gdown http://vis-www.cs.umass.edu/lfw/pairsDevTrain.txt"
      ],
      "execution_count": null,
      "outputs": [
        {
          "output_type": "stream",
          "text": [
            "Downloading...\n",
            "From: http://vis-www.cs.umass.edu/lfw/pairsDevTest.txt\n",
            "To: /content/pairsDevTest.txt\n",
            "100% 26.0k/26.0k [00:00<00:00, 824kB/s]\n",
            "Downloading...\n",
            "From: http://vis-www.cs.umass.edu/lfw/pairsDevTrain.txt\n",
            "To: /content/pairsDevTrain.txt\n",
            "100% 56.6k/56.6k [00:00<00:00, 894kB/s]\n"
          ],
          "name": "stdout"
        }
      ]
    },
    {
      "cell_type": "markdown",
      "metadata": {
        "id": "by3fyulXg5L1"
      },
      "source": [
        "#Preprocessing"
      ]
    },
    {
      "cell_type": "code",
      "metadata": {
        "colab": {
          "base_uri": "https://localhost:8080/"
        },
        "id": "yVxixQTl-phE",
        "outputId": "eb21343d-1ef3-4096-8d83-a19504df4f4a"
      },
      "source": [
        "# People amount\n",
        "import os\n",
        "\n",
        "data_path = \"data/lfw2/lfw2\"\n",
        "people_list = os.listdir(data_path)\n",
        "people_count = len(people_list)\n",
        "print(f\"There are {people_count} people's images in the dataset\")"
      ],
      "execution_count": null,
      "outputs": [
        {
          "output_type": "stream",
          "text": [
            "There are 5749 people's images in the dataset\n"
          ],
          "name": "stdout"
        }
      ]
    },
    {
      "cell_type": "code",
      "metadata": {
        "id": "lzo_-rIphDYb"
      },
      "source": [
        "train_file_path = \"pairsDevTrain.txt\"\n",
        "test_file_path = \"pairsDevTest.txt\"\n",
        "data_path = \"data/lfw2/lfw2\""
      ],
      "execution_count": null,
      "outputs": []
    },
    {
      "cell_type": "code",
      "metadata": {
        "id": "mk0WSSNJfZv1"
      },
      "source": [
        "# create data list\n",
        "import pandas as pd\n",
        "import random\n",
        "\n",
        "def load_txt_file_data(txt_file_path, create_validation=False):\n",
        "  \"\"\"\n",
        "  \"\"\"\n",
        "\n",
        "  data = open(txt_file_path).read()\n",
        "  data_list = data.split('\\n')\n",
        "  last_same_pairs_ind = int(data_list[0]) + 1\n",
        "  \n",
        "\n",
        "  same_pairs_list = data_list[1:last_same_pairs_ind]\n",
        "  different_pairs_list = data_list[last_same_pairs_ind:]\n",
        "\n",
        "  # create a list of tuples with (1st person name, 1st person pic number,\n",
        "  # 2nd person name, 2nd person pic number, label) when label is 0 for different\n",
        "  # and 1 for same\n",
        "  same_list = []\n",
        "  different_list = []\n",
        "  \n",
        "\n",
        "  # process same pairs\n",
        "  for pair in same_pairs_list:\n",
        "    pair_data = pair.split('\\t')\n",
        "    name = pair_data[0]\n",
        "    first_img = pair_data[1]\n",
        "    second_img = pair_data[2]\n",
        "    label = 1\n",
        "    pair_tuple = (name, first_img, name, second_img, 1)\n",
        "    same_list.append(pair_tuple)\n",
        "\n",
        "  # process different pairs\n",
        "  for pair in different_pairs_list:\n",
        "    if pair == \"\":\n",
        "      continue\n",
        "    pair_data = pair.split('\\t')\n",
        "    first_name = pair_data[0]\n",
        "    first_img = pair_data[1]\n",
        "    second_name = pair_data[2]\n",
        "    second_img = pair_data[3]\n",
        "    label = 0\n",
        "    pair_tuple = (first_name, first_img, second_name, second_img, 0)\n",
        "    different_list.append(pair_tuple)\n",
        "\n",
        "  if create_validation:\n",
        "    # get 10% of the data equally from same and different pairs for the validation\n",
        "    # set\n",
        "    val_ratio = 0.1\n",
        "    val_per_list_size = int(0.1 * len(same_list))\n",
        "\n",
        "    val_list = same_list[:val_per_list_size] + different_list[:val_per_list_size]\n",
        "\n",
        "    data_list = same_list[val_per_list_size:] + different_list[val_per_list_size:]\n",
        "\n",
        "    # shuffle the lists\n",
        "    random.shuffle(data_list)\n",
        "    random.shuffle(val_list)\n",
        "\n",
        "    return data_list, val_list\n",
        "  \n",
        "  # if not creating validation set\n",
        "  data_list = same_list + different_list\n",
        "  random.shuffle(data_list)\n",
        "  return data_list"
      ],
      "execution_count": null,
      "outputs": []
    },
    {
      "cell_type": "code",
      "metadata": {
        "id": "VNWrR9QMogTV"
      },
      "source": [
        "from keras.preprocessing.image import load_img, img_to_array\n",
        "import tensorflow as tf\n",
        "\n",
        "def get_image_path(name, pic_num, data_path = data_path):\n",
        "  dir_path = os.path.join(data_path, name)\n",
        "  dir_files = os.listdir(dir_path)\n",
        "\n",
        "  for file_name in dir_files:\n",
        "    if file_name.endswith(f\"{pic_num}.jpg\"):\n",
        "      file_path = os.path.join(os.path.join(data_path, name), file_name)\n",
        "      return file_path\n",
        "  \n",
        "\n",
        "def get_pairs_pics_label(data_list):\n",
        "  \"\"\"\n",
        "  gets a data list of tuples and returns two pictures in gray scale and\n",
        "  their label - 0 for different and 1 for same\n",
        "  \"\"\"\n",
        "  \n",
        "  res_list = []\n",
        "\n",
        "  for pair in data_list:\n",
        "    first_name, first_pic_num, second_name, second_pic_num, label = pair\n",
        "    \n",
        "    first_img_path = get_image_path(first_name, first_pic_num)\n",
        "    second_img_path = get_image_path(second_name, second_pic_num)\n",
        "\n",
        "    # img_size=(105,105)\n",
        "    first_img = load_img(path = first_img_path, color_mode = 'grayscale')\n",
        "    first_img = img_to_array(first_img)\n",
        "    first_img = tf.image.central_crop(first_img, 0.5)\n",
        "    # first_img = first_img / 255.0\n",
        "    second_img = load_img(path = second_img_path, color_mode = 'grayscale')\n",
        "    second_img = img_to_array(second_img)\n",
        "    second_img = tf.image.central_crop(second_img, 0.5)\n",
        "    # second_img = second_img / 255.0\n",
        "\n",
        "    pair_data = (first_img, second_img, label)\n",
        "    res_list.append(pair_data)\n",
        "\n",
        "\n",
        "\n",
        "  \n",
        "  return res_list"
      ],
      "execution_count": null,
      "outputs": []
    },
    {
      "cell_type": "code",
      "metadata": {
        "id": "il0ZH6Iun71Y"
      },
      "source": [
        "def get_x_y(data):\n",
        "  \"\"\"\n",
        "  gets a data list of tuples (image, image, label) and returns an np.array\n",
        "  of [left_input, right input] and an np.array of y labels\n",
        "  \"\"\"\n",
        "\n",
        "  X1_list = []\n",
        "  X2_list = []\n",
        "  y_list = []\n",
        "  for sample in data:\n",
        "    first_img, second_img, label = sample\n",
        "    X1_list.append(first_img)\n",
        "    X2_list.append(second_img)\n",
        "    y_list.append(label)\n",
        "  \n",
        "  return X1_list, X2_list, y_list"
      ],
      "execution_count": null,
      "outputs": []
    },
    {
      "cell_type": "markdown",
      "metadata": {
        "id": "oSRuLkcoNHFK"
      },
      "source": [
        "#Build Model"
      ]
    },
    {
      "cell_type": "code",
      "metadata": {
        "id": "csEtNshAGp_F"
      },
      "source": [
        "import tensorflow.keras.backend as K\n",
        "from tensorflow.keras import Model, Sequential\n",
        "from tensorflow.keras.layers import Lambda, Input, Flatten, Dense, Concatenate, Conv2D, MaxPooling2D, Dropout, BatchNormalization\n",
        "from tensorflow.keras.initializers import RandomNormal\n",
        "from tensorflow.keras.regularizers import l2\n",
        "from tensorflow.keras.optimizers import SGD, Adam\n",
        "from scipy.spatial.distance import cosine\n",
        "from numpy.linalg import norm\n",
        "\n",
        "def l1_dist(vect):\n",
        "    x, y = vect\n",
        "    return abs(x-y)\n",
        "\n",
        "def l2_dist(vect):\n",
        "    x, y = vect\n",
        "    return (x-y)*(x-y)\n",
        "\n",
        "\n",
        "def get_model(with_batch_normalization=False, distance_func = 'l1', input_shape= (105,105,1)):\n",
        "  W_init_1 = RandomNormal(mean=0, stddev=0.01)\n",
        "  b_init = RandomNormal(mean=0.5, stddev = 0.01)\n",
        "  W_init_2 = RandomNormal(mean=0, stddev=0.2)\n",
        "\n",
        "  # input_shape = (105, 105, 1)\n",
        "  left_input = Input(input_shape)\n",
        "  right_input = Input(input_shape)\n",
        "\n",
        "  convnet = Sequential()\n",
        "  # convnet.add(Conv2D(64,(10,10),activation='relu',input_shape=input_shape, kernel_initializer=W_init_1, bias_initializer = b_init ,kernel_regularizer=l2(2e-4)))\n",
        "  convnet.add(Conv2D(64,(10,10),activation='relu'))\n",
        "  if with_batch_normalization:\n",
        "    convnet.add(BatchNormalization())\n",
        "  convnet.add(MaxPooling2D())\n",
        "  # convnet.add(Dropout(0.5))\n",
        "  # convnet.add(Conv2D(128,(7,7),activation='relu', kernel_initializer=W_init_1, bias_initializer = b_init ,kernel_regularizer=l2(0.05)))\n",
        "  convnet.add(Conv2D(128,(7,7),activation='relu'))\n",
        "  if with_batch_normalization:\n",
        "    convnet.add(BatchNormalization())\n",
        "  convnet.add(MaxPooling2D())\n",
        "  # convnet.add(Dropout(0.5))\n",
        "  # convnet.add(Conv2D(128,(4,4),activation='relu', kernel_initializer=W_init_1, bias_initializer = b_init ,kernel_regularizer=l2(0.05)))\n",
        "  convnet.add(Conv2D(128,(4,4),activation='relu'))\n",
        "  if with_batch_normalization:\n",
        "    convnet.add(BatchNormalization())\n",
        "  convnet.add(MaxPooling2D())\n",
        "  # convnet.add(Dropout(0.5))\n",
        "  # convnet.add(Conv2D(256,(4,4),activation='relu', kernel_initializer=W_init_1, bias_initializer = b_init ,kernel_regularizer=l2(0.05)))\n",
        "  convnet.add(Conv2D(256,(4,4),activation='relu'))\n",
        "  if with_batch_normalization:\n",
        "    convnet.add(BatchNormalization())\n",
        "  convnet.add(Flatten())\n",
        "  # convnet.add(Dense(4096,activation=\"sigmoid\", kernel_initializer=W_init_2, bias_initializer = b_init ,kernel_regularizer=l2(0.05)))\n",
        "  convnet.add(Dense(4096,activation=\"sigmoid\"))\n",
        "  encoded_l = convnet(left_input)\n",
        "  encoded_r = convnet(right_input)\n",
        "\n",
        "  if distance_func=='l1':\n",
        "    merge_layer = Lambda(l1_dist)([encoded_l,encoded_r])\n",
        "  elif distance_func=='l2':\n",
        "    merge_layer = Lambda(l2_dist)([encoded_l,encoded_r])\n",
        "\n",
        "  prediction = Dense(1,activation='sigmoid')(merge_layer)\n",
        "  model = Model(inputs=[left_input,right_input],outputs=prediction)\n",
        "\n",
        "  \n",
        "  # model.compile(loss = 'binary_crossentropy', optimizer = SGD(lr = 0.0001, momentum = 0.5), metrics = ['accuracy'])\n",
        "  model.compile(loss = 'binary_crossentropy', optimizer = Adam(learning_rate = 0.0001), metrics = ['accuracy'])\n",
        "\n",
        "  return model\n"
      ],
      "execution_count": null,
      "outputs": []
    },
    {
      "cell_type": "markdown",
      "metadata": {
        "id": "I5WMnNiWPFXW"
      },
      "source": [
        "#Model L1 Distance"
      ]
    },
    {
      "cell_type": "markdown",
      "metadata": {
        "id": "300PGNB5OGcS"
      },
      "source": [
        "## Get Data"
      ]
    },
    {
      "cell_type": "code",
      "metadata": {
        "id": "8pEr_jtpPEyH"
      },
      "source": [
        "import numpy as np\n",
        "\n",
        "train_meta_data, val_meta_data = load_txt_file_data(train_file_path, create_validation = True)\n",
        "\n",
        "# process train data\n",
        "train_data = get_pairs_pics_label(train_meta_data)\n",
        "\n",
        "X1_train, X2_train, y_train = get_x_y(train_data)\n",
        "\n",
        "# add to the train set flipped one picture\n",
        "X1_train_flip, X2_train_flip, y_train_flip = get_x_y(train_data)\n",
        "for i in range(len(X1_train_flip)):\n",
        "  X1_train_flip[i] = tf.image.flip_left_right(X1_train_flip[i])\n",
        "\n",
        "# add to the train set flipped one picture\n",
        "X1_train_flip_up, X2_train_flip_up, y_train_flip_up = get_x_y(train_data)\n",
        "for i in range(len(X1_train_flip)):\n",
        "  # X1_train_flip_up[i] = tf.image.flip_up_down(X1_train_flip_up[i])\n",
        "  # X2_train_flip_up[i] = tf.image.flip_up_down(X2_train_flip_up[i])\n",
        "  X2_train_flip_up[i] = tf.image.flip_left_right(X2_train_flip_up[i])\n",
        "\n",
        "  \n",
        "\n",
        "# # add to the train set samples with random brithness change\n",
        "# X1_train_brightness, X2_train_brightness, y_train_brightness = get_x_y(train_data)\n",
        "# for i in range(len(X1_train_brightness)):\n",
        "#   X1_train_brightness[i] = X1_train_brightness[i] * 10000\n",
        "\n",
        "# create the train set\n",
        "X_train = [np.asarray(X1_train + X1_train_flip + X1_train_flip_up), np.asarray(X2_train + X2_train_flip + X2_train_flip_up)]\n",
        "# X_train = [np.asarray(X1_train + X1_train_flip), np.asarray(X2_train + X2_train_flip)]\n",
        "y_train = y_train + y_train_flip + y_train_flip_up\n",
        "# y_train = y_train + y_train_flip\n",
        "\n",
        "# process validation data\n",
        "val_data = get_pairs_pics_label(val_meta_data)\n",
        "X1_val, X2_val, y_val = get_x_y(val_data)\n",
        "X_val = [np.asarray(X1_val), np.asarray(X2_val)]\n",
        "\n"
      ],
      "execution_count": null,
      "outputs": []
    },
    {
      "cell_type": "markdown",
      "metadata": {
        "id": "YlSuYXhSOI4u"
      },
      "source": [
        "## Get Model"
      ]
    },
    {
      "cell_type": "code",
      "metadata": {
        "id": "vCGxwTq3QKYf",
        "colab": {
          "base_uri": "https://localhost:8080/"
        },
        "outputId": "8e14d525-e8ee-4d1a-dfcb-45d5c45a99d7"
      },
      "source": [
        "model_l1_dist = get_model(with_batch_normalization = True, distance_func='l1', input_shape = X_train[0][0].shape)\n",
        "model_l1_dist.summary()"
      ],
      "execution_count": null,
      "outputs": [
        {
          "output_type": "stream",
          "text": [
            "Model: \"model_15\"\n",
            "__________________________________________________________________________________________________\n",
            "Layer (type)                    Output Shape         Param #     Connected to                     \n",
            "==================================================================================================\n",
            "input_31 (InputLayer)           [(None, 126, 126, 1) 0                                            \n",
            "__________________________________________________________________________________________________\n",
            "input_32 (InputLayer)           [(None, 126, 126, 1) 0                                            \n",
            "__________________________________________________________________________________________________\n",
            "sequential_15 (Sequential)      (None, 4096)         68310080    input_31[0][0]                   \n",
            "                                                                 input_32[0][0]                   \n",
            "__________________________________________________________________________________________________\n",
            "lambda_15 (Lambda)              (None, 4096)         0           sequential_15[0][0]              \n",
            "                                                                 sequential_15[1][0]              \n",
            "__________________________________________________________________________________________________\n",
            "dense_31 (Dense)                (None, 1)            4097        lambda_15[0][0]                  \n",
            "==================================================================================================\n",
            "Total params: 68,314,177\n",
            "Trainable params: 68,313,025\n",
            "Non-trainable params: 1,152\n",
            "__________________________________________________________________________________________________\n"
          ],
          "name": "stdout"
        }
      ]
    },
    {
      "cell_type": "markdown",
      "metadata": {
        "id": "0DHwejwqu7BV"
      },
      "source": [
        "## Model Training with l1 distance"
      ]
    },
    {
      "cell_type": "code",
      "metadata": {
        "colab": {
          "base_uri": "https://localhost:8080/"
        },
        "id": "nsVSs_NWQh90",
        "outputId": "b559fad0-a874-4a89-9652-a23b78bf1ca7"
      },
      "source": [
        "# run fit with gpu\n",
        "import tensorflow as tf\n",
        "from tensorflow.keras.callbacks import EarlyStopping\n",
        "\n",
        "# add early stopping callback\n",
        "earlistopping_callback = EarlyStopping(monitor='val_loss', patience=4)\n",
        "\n",
        "\n",
        "with tf.device('/device:GPU:0'):\n",
        "  history = model_l1_dist.fit(x= X_train, y= np.asarray(y_train).astype(np.float32), batch_size=16, epochs= 200, validation_data = (X_val, np.asarray(y_val)),\n",
        "                      callbacks=[earlistopping_callback] )"
      ],
      "execution_count": null,
      "outputs": [
        {
          "output_type": "stream",
          "text": [
            "Epoch 1/200\n",
            "372/372 [==============================] - 29s 74ms/step - loss: 0.5973 - accuracy: 0.6614 - val_loss: 0.5005 - val_accuracy: 0.7636\n",
            "Epoch 2/200\n",
            "372/372 [==============================] - 27s 73ms/step - loss: 0.1505 - accuracy: 0.9617 - val_loss: 0.5099 - val_accuracy: 0.7545\n",
            "Epoch 3/200\n",
            "372/372 [==============================] - 27s 73ms/step - loss: 0.0240 - accuracy: 0.9980 - val_loss: 0.4477 - val_accuracy: 0.7955\n",
            "Epoch 4/200\n",
            "372/372 [==============================] - 27s 73ms/step - loss: 0.0053 - accuracy: 1.0000 - val_loss: 0.4443 - val_accuracy: 0.8136\n",
            "Epoch 5/200\n",
            "372/372 [==============================] - 27s 73ms/step - loss: 0.0030 - accuracy: 1.0000 - val_loss: 0.4517 - val_accuracy: 0.8182\n",
            "Epoch 6/200\n",
            "372/372 [==============================] - 27s 73ms/step - loss: 0.0021 - accuracy: 1.0000 - val_loss: 0.4576 - val_accuracy: 0.8091\n",
            "Epoch 7/200\n",
            "372/372 [==============================] - 27s 73ms/step - loss: 0.0014 - accuracy: 1.0000 - val_loss: 0.4584 - val_accuracy: 0.8091\n",
            "Epoch 8/200\n",
            "372/372 [==============================] - 27s 73ms/step - loss: 0.0011 - accuracy: 1.0000 - val_loss: 0.4618 - val_accuracy: 0.8182\n"
          ],
          "name": "stdout"
        }
      ]
    },
    {
      "cell_type": "markdown",
      "metadata": {
        "id": "HhBzAML9I8Ri"
      },
      "source": [
        "##Test Model"
      ]
    },
    {
      "cell_type": "markdown",
      "metadata": {
        "id": "5mhp98eyJHmz"
      },
      "source": [
        "###Get Test Data"
      ]
    },
    {
      "cell_type": "code",
      "metadata": {
        "id": "Mn-RvKyGJNxO"
      },
      "source": [
        "# Test data\n",
        "test_meta_data = load_txt_file_data(test_file_path)\n",
        "test_data = get_pairs_pics_label(test_meta_data)\n",
        "X1_test, X2_test, y_test = get_x_y(test_data)\n",
        "X_test = [np.asarray(X1_test), np.asarray(X2_test)]"
      ],
      "execution_count": null,
      "outputs": []
    },
    {
      "cell_type": "markdown",
      "metadata": {
        "id": "l2iUADwaJPd9"
      },
      "source": [
        "###Get Predictions"
      ]
    },
    {
      "cell_type": "code",
      "metadata": {
        "id": "xnlLz_bJJTZA"
      },
      "source": [
        "# Test accuracy\n",
        "with tf.device('/device:GPU:0'):\n",
        "  pred = model_l1_dist.predict(X_test)"
      ],
      "execution_count": null,
      "outputs": []
    },
    {
      "cell_type": "markdown",
      "metadata": {
        "id": "xA3TJ5_FJYor"
      },
      "source": [
        "###Plot Learning"
      ]
    },
    {
      "cell_type": "code",
      "metadata": {
        "colab": {
          "base_uri": "https://localhost:8080/",
          "height": 590
        },
        "id": "Crb2FbTVJddk",
        "outputId": "1c8278b6-1d9b-4a44-9502-c079eb6f245a"
      },
      "source": [
        "import matplotlib.pyplot as plt\n",
        "\n",
        "\n",
        "\n",
        "#  Train and validation accuracy\n",
        "plt.plot(history.history['accuracy'])\n",
        "plt.plot(history.history['val_accuracy'])\n",
        "plt.title('model accuracy')\n",
        "plt.ylabel('accuracy')\n",
        "plt.xlabel('epoch')\n",
        "plt.legend(['train', 'validation'], loc='upper left')\n",
        "plt.show()\n",
        "\n",
        "print()\n",
        "\n",
        "# Train and validation loss \n",
        "plt.plot(history.history['loss'])\n",
        "plt.plot(history.history['val_loss'])\n",
        "plt.title('model loss')\n",
        "plt.ylabel('loss')\n",
        "plt.xlabel('epoch')\n",
        "plt.legend(['train', 'validation'], loc='upper left')\n",
        "plt.show()"
      ],
      "execution_count": null,
      "outputs": [
        {
          "output_type": "display_data",
          "data": {
            "image/png": "[encoded data removed]",
            "text/plain": [
              "<Figure size 432x288 with 1 Axes>"
            ]
          },
          "metadata": {
            "tags": [],
            "needs_background": "light"
          }
        },
        {
          "output_type": "stream",
          "text": [
            "\n"
          ],
          "name": "stdout"
        },
        {
          "output_type": "display_data",
          "data": {
            "image/png": "[encoded data removed]",
            "text/plain": [
              "<Figure size 432x288 with 1 Axes>"
            ]
          },
          "metadata": {
            "tags": [],
            "needs_background": "light"
          }
        }
      ]
    },
    {
      "cell_type": "markdown",
      "metadata": {
        "id": "77efAgstLUKU"
      },
      "source": [
        "###Test Results"
      ]
    },
    {
      "cell_type": "code",
      "metadata": {
        "colab": {
          "base_uri": "https://localhost:8080/"
        },
        "id": "YgyEW83CLW6z",
        "outputId": "44d2b569-8afd-404b-d94e-4709a4b90d9e"
      },
      "source": [
        "from sklearn.metrics import f1_score, classification_report\n",
        "\n",
        "# Values binarization \n",
        "pred = np.where(pred > 0.5, 1, 0)\n",
        "\n",
        "print(classification_report(y_test, pred))"
      ],
      "execution_count": null,
      "outputs": [
        {
          "output_type": "stream",
          "text": [
            "              precision    recall  f1-score   support\n",
            "\n",
            "           0       0.78      0.76      0.77       500\n",
            "           1       0.76      0.79      0.78       500\n",
            "\n",
            "    accuracy                           0.77      1000\n",
            "   macro avg       0.77      0.77      0.77      1000\n",
            "weighted avg       0.77      0.77      0.77      1000\n",
            "\n"
          ],
          "name": "stdout"
        }
      ]
    },
    {
      "cell_type": "markdown",
      "metadata": {
        "id": "yAZrdpfeONGJ"
      },
      "source": [
        "# Model L2 Distance"
      ]
    },
    {
      "cell_type": "markdown",
      "metadata": {
        "id": "px2RWIsevAkx"
      },
      "source": [
        "## Get Data"
      ]
    },
    {
      "cell_type": "code",
      "metadata": {
        "id": "ZWiYzOnPHYNR"
      },
      "source": [
        "train_meta_data, val_meta_data = load_txt_file_data(train_file_path, create_validation = True)\n",
        "\n",
        "# process train data\n",
        "train_data = get_pairs_pics_label(train_meta_data)\n",
        "X1_train, X2_train, y_train = get_x_y(train_data)\n",
        "X_train = [np.asarray(X1_train), np.asarray(X2_train)]\n",
        "\n",
        "# process validation data\n",
        "val_data = get_pairs_pics_label(val_meta_data)\n",
        "X1_val, X2_val, y_val = get_x_y(val_data)\n",
        "X_val = [np.asarray(X1_val), np.asarray(X2_val)]\n",
        "\n"
      ],
      "execution_count": null,
      "outputs": []
    },
    {
      "cell_type": "markdown",
      "metadata": {
        "id": "pQZuw1LEHkZZ"
      },
      "source": [
        "##Get Model"
      ]
    },
    {
      "cell_type": "code",
      "metadata": {
        "colab": {
          "base_uri": "https://localhost:8080/"
        },
        "id": "nl3It51wHxDI",
        "outputId": "66792d1d-9ae2-46dd-8b9e-a53d952feb7f"
      },
      "source": [
        "model_l2_dist = get_model(with_batch_normalization = False, distance_func='l2')\n",
        "model.summary()"
      ],
      "execution_count": null,
      "outputs": [
        {
          "output_type": "error",
          "ename": "NameError",
          "evalue": "ignored",
          "traceback": [
            "\u001b[0;31m---------------------------------------------------------------------------\u001b[0m",
            "\u001b[0;31mNameError\u001b[0m                                 Traceback (most recent call last)",
            "\u001b[0;32m<ipython-input-1-ed3fdf763adb>\u001b[0m in \u001b[0;36m<module>\u001b[0;34m()\u001b[0m\n\u001b[0;32m----> 1\u001b[0;31m \u001b[0mmodel_l2_dist\u001b[0m \u001b[0;34m=\u001b[0m \u001b[0mget_model\u001b[0m\u001b[0;34m(\u001b[0m\u001b[0mwith_batch_normalization\u001b[0m \u001b[0;34m=\u001b[0m \u001b[0;32mFalse\u001b[0m\u001b[0;34m,\u001b[0m \u001b[0mdistance_func\u001b[0m\u001b[0;34m=\u001b[0m\u001b[0;34m'l2'\u001b[0m\u001b[0;34m)\u001b[0m\u001b[0;34m\u001b[0m\u001b[0;34m\u001b[0m\u001b[0m\n\u001b[0m\u001b[1;32m      2\u001b[0m \u001b[0mmodel\u001b[0m\u001b[0;34m.\u001b[0m\u001b[0msummary\u001b[0m\u001b[0;34m(\u001b[0m\u001b[0;34m)\u001b[0m\u001b[0;34m\u001b[0m\u001b[0;34m\u001b[0m\u001b[0m\n",
            "\u001b[0;31mNameError\u001b[0m: name 'get_model' is not defined"
          ]
        }
      ]
    },
    {
      "cell_type": "markdown",
      "metadata": {
        "id": "awJOmOilH2Ub"
      },
      "source": [
        "##Model Training with l2 distance"
      ]
    },
    {
      "cell_type": "code",
      "metadata": {
        "id": "MNnWHvcrH5pj"
      },
      "source": [
        "# run fit with gpu\n",
        "import tensorflow as tf\n",
        "from tensorflow.keras.callbacks import EarlyStopping\n",
        "\n",
        "# add early stopping callback\n",
        "earlistopping_callback = EarlyStopping(monitor='val_loss', patience=20)\n",
        "\n",
        "\n",
        "with tf.device('/device:GPU:0'):\n",
        "  history = model_l2_dist.fit(x= X_train, y= np.asarray(y_train).astype(np.float32), batch_size=32, epochs= 200, validation_data = (X_val, np.asarray(y_val)),\n",
        "                      callbacks=[earlistopping_callback] )"
      ],
      "execution_count": null,
      "outputs": []
    },
    {
      "cell_type": "markdown",
      "metadata": {
        "id": "QNepPpG7IYk1"
      },
      "source": [
        "##Test Model"
      ]
    },
    {
      "cell_type": "markdown",
      "metadata": {
        "id": "cWGid2Y6IegF"
      },
      "source": [
        "###Get Test Data"
      ]
    },
    {
      "cell_type": "code",
      "metadata": {
        "id": "wwg608hyIaPj"
      },
      "source": [
        "# Test data\n",
        "test_meta_data = load_txt_file_data(test_file_path)\n",
        "test_data = get_pairs_pics_label(test_meta_data)\n",
        "X1_test, X2_test, y_test = get_x_y(test_data)\n",
        "X_test = [np.asarray(X1_test), np.asarray(X2_test)]\n"
      ],
      "execution_count": null,
      "outputs": []
    },
    {
      "cell_type": "markdown",
      "metadata": {
        "id": "SW5LNpfeIlXZ"
      },
      "source": [
        "###Get Predictions"
      ]
    },
    {
      "cell_type": "code",
      "metadata": {
        "id": "UlVm5QudImwv"
      },
      "source": [
        "# Test accuracy\n",
        "with tf.device('/device:GPU:0'):\n",
        "  pred = model_l2_dist.predict(X_test)"
      ],
      "execution_count": null,
      "outputs": []
    },
    {
      "cell_type": "markdown",
      "metadata": {
        "id": "oZtqTMm3OPWD"
      },
      "source": [
        "### Plot Learning"
      ]
    },
    {
      "cell_type": "code",
      "metadata": {
        "id": "HdmmV-4zIvKV"
      },
      "source": [
        "import matplotlib.pyplot as plt\n",
        "\n",
        "\n",
        "\n",
        "#  Train and validation accuracy\n",
        "plt.plot(history.history['accuracy'])\n",
        "plt.plot(history.history['val_accuracy'])\n",
        "plt.title('model accuracy')\n",
        "plt.ylabel('accuracy')\n",
        "plt.xlabel('epoch')\n",
        "plt.legend(['train', 'validation'], loc='upper left')\n",
        "plt.show()\n",
        "\n",
        "print()\n",
        "\n",
        "# Train and validation loss \n",
        "plt.plot(history.history['loss'])\n",
        "plt.plot(history.history['val_loss'])\n",
        "plt.title('model loss')\n",
        "plt.ylabel('loss')\n",
        "plt.xlabel('epoch')\n",
        "plt.legend(['train', 'validation'], loc='upper left')\n",
        "plt.show()"
      ],
      "execution_count": null,
      "outputs": []
    },
    {
      "cell_type": "markdown",
      "metadata": {
        "id": "71BpbxEDLFs1"
      },
      "source": [
        "###Test Results"
      ]
    },
    {
      "cell_type": "code",
      "metadata": {
        "id": "q9Tj2zJILP54"
      },
      "source": [
        "from sklearn.metrics import f1_score, classification_report\n",
        "\n",
        "# Values binarization \n",
        "pred = np.where(pred > 0.5, 1, 0)\n",
        "\n",
        "print(classification_report(y_test, pred))"
      ],
      "execution_count": null,
      "outputs": []
    },
    {
      "cell_type": "markdown",
      "metadata": {
        "id": "ymVprLKSe781"
      },
      "source": [
        "#ImageNet Based Model"
      ]
    },
    {
      "cell_type": "code",
      "metadata": {
        "id": "KKnQ1HCJe7mr"
      },
      "source": [
        "def get_pairs_pics_label_3_channels(data_list):\n",
        "  \"\"\"\n",
        "  gets a data list of tuples and returns two pictures in gray scale and\n",
        "  their label - 0 for different and 1 for same\n",
        "  \"\"\"\n",
        "  \n",
        "  res_list = []\n",
        "\n",
        "  for pair in data_list:\n",
        "    first_name, first_pic_num, second_name, second_pic_num, label = pair\n",
        "    \n",
        "    first_img_path = get_image_path(first_name, first_pic_num)\n",
        "    second_img_path = get_image_path(second_name, second_pic_num)\n",
        "\n",
        "    img_size=(105,105)\n",
        "    first_img = load_img(path = first_img_path, color_mode = 'grayscale', target_size=img_size)\n",
        "    first_img = img_to_array(first_img)\n",
        "    first_img = np.repeat(first_img, 3, 2)\n",
        "    second_img = load_img(path = second_img_path, color_mode = 'grayscale', target_size=img_size)\n",
        "    second_img = img_to_array(second_img)\n",
        "    second_img = np.repeat(second_img, 3, 2)\n",
        "\n",
        "    pair_data = (first_img, second_img, label)\n",
        "    res_list.append(pair_data)\n",
        "  \n",
        "  return res_list\n",
        "\n",
        "\n",
        "\n",
        "\n"
      ],
      "execution_count": null,
      "outputs": []
    },
    {
      "cell_type": "code",
      "metadata": {
        "id": "m_O4GqcmdKfV"
      },
      "source": [
        "from keras.applications.vgg16 import VGG16\n",
        "\n",
        "def dist(vect):\n",
        "    x, y = vect\n",
        "    return abs(x-y)\n",
        "\n",
        "def get_imagenet_based_model():\n",
        "  # Freeze first 10 layers\n",
        "  VGG = VGG16(include_top=False, input_shape=(105,105,3))\n",
        "  for layer in VGG.layers[:19]:\n",
        "    layer.trainable = False\n",
        "\n",
        "  input_shape = (105, 105, 3)\n",
        "  left_input = Input(input_shape)\n",
        "  right_input = Input(input_shape)\n",
        "\n",
        "  convnet = Sequential()\n",
        "  convnet.add(VGG)\n",
        "  convnet.add(Flatten())\n",
        "  convnet.add(Dense(512, activation='relu', kernel_regularizer=l2(0.05)))\n",
        "\n",
        "  encoded_l = convnet(left_input)\n",
        "  encoded_r = convnet(right_input)\n",
        "\n",
        "  merge_layer = Lambda(dist)([encoded_l,encoded_r])\n",
        "  prediction = Dense(1,activation='sigmoid')(merge_layer)\n",
        "  model = Model(inputs=[left_input,right_input],outputs=prediction)\n",
        "\n",
        "  model.compile(loss = 'binary_crossentropy', optimizer = Adam(), metrics = ['accuracy'])\n",
        "  model.summary()\n",
        "\n",
        "  return model"
      ],
      "execution_count": null,
      "outputs": []
    },
    {
      "cell_type": "markdown",
      "metadata": {
        "id": "q_U0p36nJl9h"
      },
      "source": [
        "##Get Data"
      ]
    },
    {
      "cell_type": "code",
      "metadata": {
        "id": "5KHZ5p8fgcAR"
      },
      "source": [
        "train_meta_data, val_meta_data = load_txt_file_data(train_file_path, create_validation = True)\n",
        "\n",
        "# process train data\n",
        "train_data = get_pairs_pics_label_3_channels(train_meta_data)\n",
        "X1_train, X2_train, y_train = get_x_y(train_data)\n",
        "X_train = [np.asarray(X1_train), np.asarray(X2_train)]\n",
        "\n",
        "# process validation data\n",
        "val_data = get_pairs_pics_label_3_channels(val_meta_data)\n",
        "X1_val, X2_val, y_val = get_x_y(val_data)\n",
        "X_val = [np.asarray(X1_val), np.asarray(X2_val)]"
      ],
      "execution_count": null,
      "outputs": []
    },
    {
      "cell_type": "markdown",
      "metadata": {
        "id": "7uguCJHMJoQL"
      },
      "source": [
        "##Get Model"
      ]
    },
    {
      "cell_type": "code",
      "metadata": {
        "id": "O3AEWJ32eRfd"
      },
      "source": [
        "model_imagenet = get_imagenet_based_model()\n"
      ],
      "execution_count": null,
      "outputs": []
    },
    {
      "cell_type": "markdown",
      "metadata": {
        "id": "_YhmERnrJ0na"
      },
      "source": [
        "##ImageNet Model Training"
      ]
    },
    {
      "cell_type": "code",
      "metadata": {
        "id": "KUW-qEIaJ6vy"
      },
      "source": [
        "# run fit with gpu\n",
        "import tensorflow as tf\n",
        "from tensorflow.keras.callbacks import EarlyStopping\n",
        "\n",
        "# add early stopping callback\n",
        "earlistopping_callback = EarlyStopping(monitor='val_loss', patience=20)\n",
        "\n",
        "\n",
        "with tf.device('/device:GPU:0'):\n",
        "  history = model_imagenet.fit(x= X_train, y= np.asarray(y_train).astype(np.float32), batch_size=32, epochs= 200, validation_data = (X_val, np.asarray(y_val)),\n",
        "                      callbacks=[earlistopping_callback] )"
      ],
      "execution_count": null,
      "outputs": []
    },
    {
      "cell_type": "markdown",
      "metadata": {
        "id": "O5CO99VjEnuz"
      },
      "source": [
        "##Test Model"
      ]
    },
    {
      "cell_type": "markdown",
      "metadata": {
        "id": "I2jDlYKNKJsZ"
      },
      "source": [
        "###Get Test Data"
      ]
    },
    {
      "cell_type": "code",
      "metadata": {
        "id": "acops51VEohB"
      },
      "source": [
        "# Test data\n",
        "test_meta_data = load_txt_file_data(test_file_path)\n",
        "test_data = get_pairs_pics_label_3_channels(test_meta_data)\n",
        "X1_test, X2_test, y_test = get_x_y(test_data)\n",
        "X_test = [np.asarray(X1_test), np.asarray(X2_test)]"
      ],
      "execution_count": null,
      "outputs": []
    },
    {
      "cell_type": "markdown",
      "metadata": {
        "id": "7q6wbrG7KINy"
      },
      "source": [
        "###Get Predictions"
      ]
    },
    {
      "cell_type": "code",
      "metadata": {
        "id": "Cfgo6ZTsEuWH"
      },
      "source": [
        "# Test accuracy\n",
        "with tf.device('/device:GPU:0'):\n",
        "  pred = model_imagenet.predict(X_test)"
      ],
      "execution_count": null,
      "outputs": []
    },
    {
      "cell_type": "markdown",
      "metadata": {
        "id": "iMKMzTIlKS3i"
      },
      "source": [
        "###Plot Learning"
      ]
    },
    {
      "cell_type": "code",
      "metadata": {
        "id": "WMPlDAYRMkTW"
      },
      "source": [
        "import matplotlib.pyplot as plt\n",
        "\n",
        "\n",
        "\n",
        "#  Train and validation accuracy\n",
        "plt.plot(history.history['accuracy'])\n",
        "plt.plot(history.history['val_accuracy'])\n",
        "plt.title('model accuracy')\n",
        "plt.ylabel('accuracy')\n",
        "plt.xlabel('epoch')\n",
        "plt.legend(['train', 'validation'], loc='upper left')\n",
        "plt.show()\n",
        "\n",
        "print()\n",
        "\n",
        "# Train and validation loss \n",
        "plt.plot(history.history['loss'])\n",
        "plt.plot(history.history['val_loss'])\n",
        "plt.title('model loss')\n",
        "plt.ylabel('loss')\n",
        "plt.xlabel('epoch')\n",
        "plt.legend(['train', 'validation'], loc='upper left')\n",
        "plt.show()"
      ],
      "execution_count": null,
      "outputs": []
    },
    {
      "cell_type": "markdown",
      "metadata": {
        "id": "j2ObYG5uKl4y"
      },
      "source": [
        "###Test Results"
      ]
    },
    {
      "cell_type": "code",
      "metadata": {
        "id": "tngoufVrK-Gp"
      },
      "source": [
        "from sklearn.metrics import f1_score, classification_report\n",
        "\n",
        "# Values binarization \n",
        "pred = np.where(pred > 0.5, 1, 0)\n",
        "\n",
        "print(classification_report(y_test, pred))"
      ],
      "execution_count": null,
      "outputs": []
    },
    {
      "cell_type": "markdown",
      "metadata": {
        "id": "_HjuGoShOT-F"
      },
      "source": [
        "#Test Model"
      ]
    },
    {
      "cell_type": "code",
      "metadata": {
        "id": "q84MXzwdwV9B"
      },
      "source": [
        "# Test data\n",
        "test_meta_data = load_txt_file_data(test_file_path)\n",
        "test_data = get_pairs_pics_label(test_meta_data)\n",
        "X1_test, X2_test, y_test = get_x_y(test_data)\n",
        "X_test = [np.asarray(X1_test), np.asarray(X2_test)]\n",
        "\n",
        "\n",
        "\n",
        "\n"
      ],
      "execution_count": null,
      "outputs": []
    },
    {
      "cell_type": "code",
      "metadata": {
        "id": "3bffTIYKy0cP"
      },
      "source": [
        "# Test accuracy\n",
        "with tf.device('/device:GPU:0'):\n",
        "  pred = model.predict(X_test)"
      ],
      "execution_count": null,
      "outputs": []
    },
    {
      "cell_type": "code",
      "metadata": {
        "id": "V8yxHagCzXRM"
      },
      "source": [
        "from sklearn.metrics import f1_score, classification_report\n",
        "\n",
        "# Values binarization \n",
        "pred = np.where(pred > 0.5, 1, 0)\n",
        "# print(pred.shape)\n",
        "\n",
        "# print(pred)\n",
        "print(classification_report(y_test, pred))"
      ],
      "execution_count": null,
      "outputs": []
    },
    {
      "cell_type": "code",
      "metadata": {
        "id": "APcgCsZUau1c"
      },
      "source": [
        "# Test accuracy\n",
        "with tf.device('/device:GPU:0'):\n",
        "  pred = model.predict(X_test)"
      ],
      "execution_count": null,
      "outputs": []
    },
    {
      "cell_type": "code",
      "metadata": {
        "id": "apYN82gIawDi"
      },
      "source": [
        "from sklearn.metrics import f1_score, classification_report\n",
        "\n",
        "# Values binarization \n",
        "pred = np.where(pred > 0.5, 1, 0)\n",
        "\n",
        "print(classification_report(y_test, pred))"
      ],
      "execution_count": null,
      "outputs": []
    },
    {
      "cell_type": "markdown",
      "metadata": {
        "id": "shgRBn9a0P5b"
      },
      "source": [
        "# Extra"
      ]
    },
    {
      "cell_type": "code",
      "metadata": {
        "colab": {
          "base_uri": "https://localhost:8080/"
        },
        "id": "NMe7s5Ys_jHp",
        "outputId": "e8b4f972-ea00-4cce-a0d5-cdbfef11b7fb"
      },
      "source": [
        "test_file_name = \"pairsDevTrain.txt\"\n",
        "train_file = open(train_file_name)\n",
        "train_meta_data = train_file.read()\n",
        "train_meta_data_list = train_meta_data.split('\\n')\n",
        "print(train_meta_data_list[1100])"
      ],
      "execution_count": null,
      "outputs": [
        {
          "output_type": "stream",
          "text": [
            "Zinedine_Zidane\t2\t4\n"
          ],
          "name": "stdout"
        }
      ]
    },
    {
      "cell_type": "code",
      "metadata": {
        "id": "OrpY1R4Uf0Rr"
      },
      "source": [],
      "execution_count": null,
      "outputs": []
    },
    {
      "cell_type": "code",
      "metadata": {
        "colab": {
          "base_uri": "https://localhost:8080/"
        },
        "id": "gmdsmUxyDcmN",
        "outputId": "a98ac5fb-3197-4281-f7f7-e5283f82e70c"
      },
      "source": [
        "sample = train_meta_data_list[0].split('\\t')\n",
        "name = sample[0]\n",
        "first_image_ext = sample[1]\n",
        "second_image_ext = sample[2]\n",
        "sample_path = os.path.join(data_path, name)\n",
        "for file_name in os.listdir(sample_path):\n",
        "  first_image_name = file_name if file_name.endswith(first_image_ext + \".jpg\") else first_image_name\n",
        "  second_image_name = file_name if file_name.endswith(second_image_ext + \".jpg\") else second_image_name\n",
        "\n",
        "first_image_path = os.path.join(sample_path, first_image_path)\n",
        "second_image_path = os.path.join(sample_path, second_image_path)\n",
        "\n",
        "print(second_image_name)"
      ],
      "execution_count": null,
      "outputs": [
        {
          "output_type": "stream",
          "text": [
            "Aaron_Peirsol_0002.jpg\n"
          ],
          "name": "stdout"
        }
      ]
    },
    {
      "cell_type": "code",
      "metadata": {
        "colab": {
          "base_uri": "https://localhost:8080/"
        },
        "id": "_0BkITfpPaiy",
        "outputId": "8ab0306c-3dd9-49ef-ff5b-345f2043fa51"
      },
      "source": [
        "model = get_model()\n",
        "model.summary()"
      ],
      "execution_count": null,
      "outputs": [
        {
          "output_type": "stream",
          "text": [
            "Model: \"model_1\"\n",
            "__________________________________________________________________________________________________\n",
            "Layer (type)                    Output Shape         Param #     Connected to                     \n",
            "==================================================================================================\n",
            "input_5 (InputLayer)            [(None, 105, 105, 1) 0                                            \n",
            "__________________________________________________________________________________________________\n",
            "input_6 (InputLayer)            [(None, 105, 105, 1) 0                                            \n",
            "__________________________________________________________________________________________________\n",
            "sequential_2 (Sequential)       (None, 4096)         38947648    input_5[0][0]                    \n",
            "                                                                 input_6[0][0]                    \n",
            "__________________________________________________________________________________________________\n",
            "lambda_1 (Lambda)               (None, 1)            0           sequential_2[0][0]               \n",
            "                                                                 sequential_2[1][0]               \n",
            "__________________________________________________________________________________________________\n",
            "dense_3 (Dense)                 (None, 1)            2           lambda_1[0][0]                   \n",
            "==================================================================================================\n",
            "Total params: 38,947,650\n",
            "Trainable params: 38,947,650\n",
            "Non-trainable params: 0\n",
            "__________________________________________________________________________________________________\n"
          ],
          "name": "stdout"
        }
      ]
    },
    {
      "cell_type": "code",
      "metadata": {
        "colab": {
          "base_uri": "https://localhost:8080/"
        },
        "id": "WGXdR30qP8CL",
        "outputId": "ec75e723-b6bd-4203-ee9f-bbcb8d943e88"
      },
      "source": [
        "model.train_on_batch"
      ],
      "execution_count": null,
      "outputs": [
        {
          "output_type": "stream",
          "text": [
            "<function fetch_lfw_pairs at 0x7f1049a75a70>\n"
          ],
          "name": "stdout"
        }
      ]
    },
    {
      "cell_type": "code",
      "metadata": {
        "colab": {
          "base_uri": "https://localhost:8080/"
        },
        "id": "0wggTLvq8oCZ",
        "outputId": "3d2a66c7-1f1d-4323-cbc8-12106e86bfa2"
      },
      "source": [
        "# Get unzipped data\n",
        "\n",
        "import os\n",
        "\n",
        "# d = open(\"data/lfw2/lfw2\", )\n",
        "data_path = \"data/lfw2/lfw2\"\n",
        "os.listdir(data_path)\n",
        "\n",
        "jpath = os.path.join(data_path, \"James_Mathis\")\n",
        "os.listdir(jpath)"
      ],
      "execution_count": null,
      "outputs": [
        {
          "output_type": "execute_result",
          "data": {
            "text/plain": [
              "['James_Mathis_0001.jpg']"
            ]
          },
          "metadata": {
            "tags": []
          },
          "execution_count": 8
        }
      ]
    },
    {
      "cell_type": "code",
      "metadata": {
        "id": "B18rQRkhEzZf"
      },
      "source": [
        "from sklearn.metrics import f1_score, classification_report\n",
        "\n",
        "# Values binarization \n",
        "pred = np.where(pred > 0.5, 1, 0)\n",
        "# print(pred.shape)\n",
        "\n",
        "# print(pred)\n",
        "print(classification_report(y_test, pred))"
      ],
      "execution_count": null,
      "outputs": []
    }
  ]
}